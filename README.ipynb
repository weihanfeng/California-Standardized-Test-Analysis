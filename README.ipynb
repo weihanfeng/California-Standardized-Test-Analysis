{
 "cells": [
  {
   "cell_type": "markdown",
   "metadata": {},
   "source": [
    "# Standardized Test Analysis"
   ]
  },
  {
   "cell_type": "markdown",
   "metadata": {},
   "source": [
    "## Background"
   ]
  },
  {
   "cell_type": "markdown",
   "metadata": {},
   "source": [
    "Despite being the technological powerhouse of United States and the 5th highest state in terms of GDP per capita, California seems to underperform when it comes to quality of pre-tertiary education. It ranks 40th in the quality of pre-K12<sup>1</sup> education ([usnews](https://www.usnews.com/news/best-states/rankings/education)) and 41th in quality of public schools ([wallethub](https://wallethub.com/edu/e/states-with-the-best-schools/5335)). This is not for the lack of education resources either, as the state ranks 20th in terms of education spending. There is therefore an inefficient utilisation of education spendings and an urgency to take a more targeted approach in terms of where and how the money is spent.\n",
    "\n",
    " ![Education Quality vs Spending](assets/edu_vs_spending.jpg)\n",
    "\n",
    "\n",
    "<div align=\"center\">\n",
    "    <a href=\"https://wallethub.com/edu/e/states-with-the-best-schools/5335\">Source</a>\n",
    " </div>"
   ]
  },
  {
   "cell_type": "markdown",
   "metadata": {},
   "source": [
    "### A little about SAT and ACT"
   ]
  },
  {
   "cell_type": "markdown",
   "metadata": {},
   "source": [
    "For this project, the main metrics which will be used to to assess student performance are SAT and ACT results for each school district. The SAT and ACT are standardized tests that many colleges and universities in the United States require for their admissions process. This score is used along with other materials such as grade point average (GPA) and essay responses to determine whether or not a potential student will be accepted to the university. \n",
    "\n",
    "The SAT has two sections of the test: Evidence-Based Reading and Writing and Math ([*source*](https://www.princetonreview.com/college/sat-sections)). The ACT has 4 sections: English, Mathematics, Reading, and Science, with an additional optional writing section ([*source*](https://www.act.org/content/act/en/products-and-services/the-act/scores/understanding-your-scores.html)). They have different score ranges, which you can read more about on their websites or additional outside sources:\n",
    "* [SAT](https://collegereadiness.collegeboard.org/sat)\n",
    "* [ACT](https://www.act.org/content/act/en.html)\n"
   ]
  },
  {
   "cell_type": "markdown",
   "metadata": {},
   "source": [
    "## Problem Statement"
   ]
  },
  {
   "cell_type": "markdown",
   "metadata": {},
   "source": [
    "The state of California has many school districts. This project aims to analyse the student performances on SAT and ACT tests with regards to a number of socio-economic indicators of each district. This helps to identify underlying factors which contributes to potential poor performances so that states can take a more targeted approach in allocating resources and recommending interventions in areas of concern. "
   ]
  },
  {
   "cell_type": "markdown",
   "metadata": {},
   "source": [
    "## Additional Research"
   ]
  },
  {
   "cell_type": "markdown",
   "metadata": {},
   "source": [
    "To fill"
   ]
  },
  {
   "cell_type": "markdown",
   "metadata": {},
   "source": [
    "## Datasets"
   ]
  },
  {
   "cell_type": "markdown",
   "metadata": {},
   "source": [
    "To fill"
   ]
  },
  {
   "cell_type": "markdown",
   "metadata": {},
   "source": [
    "## Data Dictionary"
   ]
  },
  {
   "cell_type": "markdown",
   "metadata": {},
   "source": [
    "| Feature                                     | Type    | Dataset                                      | Description                                                                                                                                    |\n",
    "| ------------------------------------------- | ------- | -------------------------------------------- | ---------------------------------------------------------------------------------------------------------------------------------------------- |\n",
    "| NCES\\_ID                                    | int64   | california\\_school\\_district\\_info.csv       | School district identifier for National Center for Education Statistics (NCES)                                                                 |\n",
    "| CDCode                                      | int64   | california\\_school\\_district\\_info.csv       | Official school district Identifier                                                                                                            |\n",
    "| county\\_name                                | object  | california\\_school\\_district\\_info.csv       | County name                                                                                                                                    |\n",
    "| district\\_name                              | object  | california\\_school\\_district\\_info.csv       | School district name                                                                                                                           |\n",
    "| district\\_type                              | object  | california\\_school\\_district\\_info.csv       | Type of school district                                                                                                                        |\n",
    "| urban\\_locale                               | object  | california\\_school\\_district\\_info.csv       | Urban locale of school district (city, suburb, fringe, rural, etc)                                                                             |\n",
    "| total\\_enrolment                            | int64   | california\\_school\\_district\\_info.csv       | Total student enrolment                                                                                                                        |\n",
    "| charter\\_school\\_percentage                 | float64 | california\\_school\\_district\\_info.csv       | Percentage of students in charter school                                                                                                       |\n",
    "| non\\_charter\\_school\\_percentage            | float64 | california\\_school\\_district\\_info.csv       | Percentage of students in non-charter school (Public)                                                                                          |\n",
    "| homeless\\_student\\_percentage               | float64 | california\\_school\\_district\\_info.csv       | Percentage of students who are homeless                                                                                                        |\n",
    "| migrant\\_student\\_percentage                | float64 | california\\_school\\_district\\_info.csv       | Percentage of students who are migrants                                                                                                        |\n",
    "| dropout\\_percentage                         | float64 | california\\_school\\_district\\_info.csv       | Percentage of students who dropped out                                                                                                         |\n",
    "| suspension\\_percentage                      | float64 | california\\_school\\_district\\_info.csv       | Percentage of students suspended                                                                                                               |\n",
    "| total\\_population                           | float64  | california\\_school\\_district\\_NCES\\_info.csv | Total population of district                                                                                                                   |\n",
    "| median\\_houshold\\_income                    | float64  | california\\_school\\_district\\_NCES\\_info.csv | Median houshold income of district                                                                                                             |\n",
    "| total\\_household                            | float64  | california\\_school\\_district\\_NCES\\_info.csv | Total household number of district                                                                                                             |\n",
    "| white                                       | float64 | california\\_school\\_district\\_NCES\\_info.csv | Percentage of district population who are white                                                                                                |\n",
    "| black                                       | float64 | california\\_school\\_district\\_NCES\\_info.csv | Percentage of district population who are black                                                                                                |\n",
    "| hispanic\\_or\\_latino                        | float64 | california\\_school\\_district\\_NCES\\_info.csv | Percentage of district population who are hispanic\\_or\\_latino                                                                                 |\n",
    "| asian                                       | float64 | california\\_school\\_district\\_NCES\\_info.csv | Percentage of district population who are asian                                                                                                |\n",
    "| american\\_indian/alaskan\\_native            | float64 | california\\_school\\_district\\_NCES\\_info.csv | Percentage of district population who are american indian/alaskan native                                                                       |\n",
    "| hawaiian\\_and\\_other\\_pacific\\_islander     | float64 | california\\_school\\_district\\_NCES\\_info.csv | Percentage of district population who are hawaiian and other pacific islanders                                                                 |\n",
    "| some\\_other\\_race\\_alone                    | float64 | california\\_school\\_district\\_NCES\\_info.csv | Percentage of district population who are from other races                                                                                     |\n",
    "| two\\_or\\_more\\_races                        | float64 | california\\_school\\_district\\_NCES\\_info.csv | Percentage of district population who are from or mores                                                                                        |\n",
    "| housing\\_structure\\_built\\_2000\\_and\\_after | float64 | california\\_school\\_district\\_NCES\\_info.csv | Percentage of houses built 2000 and after                                                                                                      |\n",
    "| housing\\_structure\\_built\\_1970-1999        | float64 | california\\_school\\_district\\_NCES\\_info.csv | Percentage of houses built from 1970 to 1999                                                                                                   |\n",
    "| housing\\_structure\\_built\\_before\\_1970     | float64 | california\\_school\\_district\\_NCES\\_info.csv | Percentage of houses built before 1970s                                                                                                        |\n",
    "| household\\_with\\_broadband\\_internet        | float64 | california\\_school\\_district\\_NCES\\_info.csv | Percentage of households with internet broadband                                                                                               |\n",
    "| housing\\_structure\\_type\\_house             | float64 | california\\_school\\_district\\_NCES\\_info.csv | Percentage of district population who live in houses                                                                                           |\n",
    "| housing\\_structure\\_type\\_apartment         | float64 | california\\_school\\_district\\_NCES\\_info.csv | Percentage of district population who live in apartments                                                                                       |\n",
    "| speak\\_english\\_only\\_children              | float64 | california\\_school\\_district\\_NCES\\_info.csv | Percentage of district population who speak english ony                                                                                        |\n",
    "| under18\\_with\\_disability                   | float64 | california\\_school\\_district\\_NCES\\_info.csv | Percentage of students with disability                                                                                                         |\n",
    "| under18\\_with\\_health\\_insurance            | float64 | california\\_school\\_district\\_NCES\\_info.csv | Percentage of students with health insurance coverage                                                                                          |\n",
    "| family\\_income\\_below\\_poverty              | float64 | california\\_school\\_district\\_NCES\\_info.csv | Percentage of students with family income below poverty level                                                                                  |\n",
    "| married\\_couple\\_household                  | float64 | california\\_school\\_district\\_NCES\\_info.csv | Percentage of students who are from married couple households                                                                                  |\n",
    "| cohabitating\\_couple\\_household             | float64 | california\\_school\\_district\\_NCES\\_info.csv | Percentage of students who are from cohabitating couple households                                                                             |\n",
    "| female\\_householder\\_household              | float64 | california\\_school\\_district\\_NCES\\_info.csv | Percentage of students who are from households with female householder only                                                                    |\n",
    "| male\\_householder\\_household                | float64 | california\\_school\\_district\\_NCES\\_info.csv | Percentage of students who are from households with male householder only                                                                      |\n",
    "| parents\\_not\\_in\\_labor\\_force              | float64 | california\\_school\\_district\\_NCES\\_info.csv | Percentage of students with parents not in labor force                                                                                         |\n",
    "| bachelors\\_or\\_higher                       | float64 | california\\_school\\_district\\_NCES\\_info.csv | Pencentage of students with parents who possess at least a bachelor's degree                                                                   |\n",
    "| expenditure\\_per\\_student                   | float64 | california\\_school\\_district\\_NCES\\_info.csv | Expenditure per student of the school district                                                                                                 |\n",
    "| act\\_enroll                                 | float64 | act\\_2019\\_ca.csv                            | Enrollment of Grade 12                                                                                                                         |\n",
    "| act\\_num\\_test\\_taker                       | float64 | act\\_2019\\_ca.csv                            | Number of Test Takers for ACT                                                                                                                  |\n",
    "| act\\_participation\\_rate                    | float64 | act\\_2019\\_ca.csv                            | Participation Rate of Grade 12 in ACT                                                                                                          |\n",
    "| act\\_average\\_reading\\_score                | float64 | act\\_2019\\_ca.csv                            | Average ACT Reading Score                                                                                                                      |\n",
    "| act\\_average\\_english\\_score                | float64 | act\\_2019\\_ca.csv                            | Average ACT  English Score                                                                                                                     |\n",
    "| act\\_average\\_math\\_score                   | float64 | act\\_2019\\_ca.csv                            | Average ACT Math Score                                                                                                                         |\n",
    "| act\\_average\\_science\\_score                | float64 | act\\_2019\\_ca.csv                            | Average ACT Science Score                                                                                                                      |\n",
    "| act\\_num\\_above\\_average\\_score             | float64 | act\\_2019\\_ca.csv                            | Number of Test Takers Whose ACT Composite Scores Are Greater or Equal to 21.                                                                   |\n",
    "| act\\_percentage\\_above\\_average\\_score      | float64 | act\\_2019\\_ca.csv                            | Percent of Test Takers Whose ACT Composite Scores Are Greater or Equal to 21                                                                   |\n",
    "| sat\\_enroll                                 | float64 | sat\\_2019\\_ca.csv                            | Enrollment of Grade 12 and Grade 11                                                                                                            |\n",
    "| sat\\_num\\_test\\_taker                       | float64 | sat\\_2019\\_ca.csv                            | Number of Test Takers for SAT                                                                                                                  |\n",
    "| sat\\_participation\\_rate                    | float64 | sat\\_2019\\_ca.csv                            | Participation Rate of Grade 12 and 11 in ACT                                                                                                   |\n",
    "| sat\\_num\\_erw\\_benchmark                    | float64 | sat\\_2019\\_ca.csv                            | The number meeting the Evidence-Based Reading & Writing (ERW) benchmark established by the College Board based on the New 2016 SAT test format |\n",
    "| sat\\_percentage\\_erw\\_benchmark             | float64 | sat\\_2019\\_ca.csv                            | The percent of students who met or exceeded the benchmark for Evidence-Based Reading & Writing (ERW) test                                      |\n",
    "| sat\\_num\\_math\\_benchmark                   | float64 | sat\\_2019\\_ca.csv                            | The number of students who met or exceeded the benchmark for the New SAT Math test format                                                      |\n",
    "| sat\\_percentage\\_math\\_benchmark            | float64 | sat\\_2019\\_ca.csv                            | The percent of students who met or exceeded the benchmark for SAT Math test                                                                    |\n",
    "| sat\\_num\\_both\\_benchmark                   | float64 | sat\\_2019\\_ca.csv                            | The total number of students who met the benchmark of both Evidence-Based Reading & Writing (ERW) and Math                                     |\n",
    "| sat\\_percentage\\_both\\_benchmark            | float64 | sat\\_2019\\_ca.csv                            | The percent of students who met the benchmark of both Evidence-Based Reading & Writing (ERW) and Mat                                           |"
   ]
  },
  {
   "cell_type": "markdown",
   "metadata": {},
   "source": [
    "## Methodology"
   ]
  },
  {
   "cell_type": "markdown",
   "metadata": {},
   "source": [
    "To fill "
   ]
  },
  {
   "cell_type": "markdown",
   "metadata": {},
   "source": [
    "## Summary of Analysis"
   ]
  },
  {
   "cell_type": "markdown",
   "metadata": {},
   "source": [
    "To fill"
   ]
  },
  {
   "cell_type": "markdown",
   "metadata": {},
   "source": [
    "## Recommendation and Conclusion"
   ]
  },
  {
   "cell_type": "markdown",
   "metadata": {},
   "source": [
    "To fill"
   ]
  },
  {
   "cell_type": "markdown",
   "metadata": {},
   "source": [
    "1. In the US school system, pre-K12 education incudes kintergarden and up to 12th grade (pre-University)"
   ]
  },
  {
   "cell_type": "code",
   "execution_count": null,
   "metadata": {},
   "outputs": [],
   "source": []
  }
 ],
 "metadata": {
  "kernelspec": {
   "display_name": "Python 3",
   "language": "python",
   "name": "python3"
  },
  "language_info": {
   "codemirror_mode": {
    "name": "ipython",
    "version": 3
   },
   "file_extension": ".py",
   "mimetype": "text/x-python",
   "name": "python",
   "nbconvert_exporter": "python",
   "pygments_lexer": "ipython3",
   "version": "3.8.5"
  },
  "toc": {
   "base_numbering": 1,
   "nav_menu": {},
   "number_sections": true,
   "sideBar": true,
   "skip_h1_title": false,
   "title_cell": "Table of Contents",
   "title_sidebar": "Contents",
   "toc_cell": false,
   "toc_position": {},
   "toc_section_display": true,
   "toc_window_display": false
  }
 },
 "nbformat": 4,
 "nbformat_minor": 4
}
